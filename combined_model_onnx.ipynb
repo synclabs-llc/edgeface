{
 "cells": [
  {
   "cell_type": "code",
   "execution_count": 7,
   "id": "f58590c3",
   "metadata": {},
   "outputs": [],
   "source": [
    "import numpy as np\n",
    "import cv2\n",
    "from PIL import Image\n",
    "import onnxruntime as ort\n",
    "import torch.nn.functional as F\n",
    "\n",
    "from face_alignment import align"
   ]
  },
  {
   "cell_type": "code",
   "execution_count": null,
   "id": "b3fbbcb8",
   "metadata": {},
   "outputs": [],
   "source": []
  }
 ],
 "metadata": {
  "kernelspec": {
   "display_name": ".venv",
   "language": "python",
   "name": "python3"
  },
  "language_info": {
   "codemirror_mode": {
    "name": "ipython",
    "version": 3
   },
   "file_extension": ".py",
   "mimetype": "text/x-python",
   "name": "python",
   "nbconvert_exporter": "python",
   "pygments_lexer": "ipython3",
   "version": "3.12.6"
  }
 },
 "nbformat": 4,
 "nbformat_minor": 5
}
